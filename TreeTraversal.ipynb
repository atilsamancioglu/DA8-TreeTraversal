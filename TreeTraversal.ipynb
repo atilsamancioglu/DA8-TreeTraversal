{
 "cells": [
  {
   "cell_type": "code",
   "execution_count": 1,
   "metadata": {},
   "outputs": [],
   "source": [
    "class Node:\n",
    "    \n",
    "    def __init__(self, value):\n",
    "        self.value = value\n",
    "        self.left = None\n",
    "        self.right = None"
   ]
  },
  {
   "cell_type": "code",
   "execution_count": 2,
   "metadata": {},
   "outputs": [],
   "source": [
    "class BinarySearchTree:\n",
    "    \n",
    "    def __init__(self):\n",
    "        self.root = None\n",
    "\n",
    "    def insert(self, value):\n",
    "        \n",
    "        newNode = Node(value)\n",
    "        \n",
    "        if self.root is None:\n",
    "            \n",
    "            self.root = newNode\n",
    "            return True\n",
    "        \n",
    "        tempNode = self.root\n",
    "        \n",
    "        while True:\n",
    "            \n",
    "            if newNode.value == tempNode.value:\n",
    "                return False\n",
    "            \n",
    "            if newNode.value < tempNode.value:\n",
    "                if tempNode.left is None:\n",
    "                    tempNode.left = newNode\n",
    "                    return True\n",
    "                tempNode = tempNode.left\n",
    "            \n",
    "            else: \n",
    "                if tempNode.right is None:\n",
    "                    tempNode.right = newNode\n",
    "                    return True\n",
    "                tempNode = tempNode.right\n",
    "\n",
    "    def contains(self, value):\n",
    "        tempNode = self.root\n",
    "        \n",
    "        while tempNode:\n",
    "            if value < tempNode.value:\n",
    "                tempNode = tempNode.left\n",
    "            elif value > tempNode.value:\n",
    "                tempNode = tempNode.right\n",
    "            else:\n",
    "                return True\n",
    "        return False\n",
    "        \n",
    "    def minOfNode(self,currentNode):\n",
    "        while currentNode.left:\n",
    "            currentNode = currentNode.left\n",
    "        return currentNode\n",
    "    \n",
    "    def maxOfNode(self,currentNode):\n",
    "        while currentNode.right:\n",
    "            currentNode = currentNode.right\n",
    "        return currentNode\n",
    "    \n",
    "    def BFS(self):\n",
    "        currentNode = self.root\n",
    "        myQueue = []\n",
    "        values = []\n",
    "        myQueue.append(currentNode)\n",
    "\n",
    "        while len(myQueue) > 0:\n",
    "            currentNode = myQueue.pop(0)\n",
    "            values.append(currentNode.value)\n",
    "            if currentNode.left is not None:\n",
    "                myQueue.append(currentNode.left)\n",
    "            if currentNode.right is not None:\n",
    "                myQueue.append(currentNode.right)\n",
    "        return values\n",
    "    \n",
    "    def DFSPreOrder(self):\n",
    "        values = []\n",
    "        \n",
    "        def traverse(currentNode):\n",
    "            values.append(currentNode.value)\n",
    "            if currentNode.left is not None:\n",
    "                traverse(currentNode.left)\n",
    "            if currentNode.right is not None:\n",
    "                traverse(currentNode.right)\n",
    "        traverse(self.root)\n",
    "        \n",
    "        return values\n",
    "    \n",
    "    def DFSPostOrder(self):\n",
    "        values = []\n",
    "        \n",
    "        def traverse(currentNode):\n",
    "            if currentNode.left is not None:\n",
    "                traverse(currentNode.left)\n",
    "            if currentNode.right is not None:\n",
    "                traverse(currentNode.right)\n",
    "            values.append(currentNode.value)\n",
    "        traverse(self.root)\n",
    "        return values\n",
    "    \n",
    "    def DFSInOrder(self):\n",
    "        values = []\n",
    "        \n",
    "        def traverse(currentNode):\n",
    "            if currentNode.left is not None:\n",
    "                traverse(currentNode.left)\n",
    "            values.append(currentNode.value) \n",
    "            if currentNode.right is not None:\n",
    "                traverse(currentNode.right) \n",
    "        traverse(self.root)\n",
    "        return values"
   ]
  },
  {
   "cell_type": "code",
   "execution_count": 3,
   "metadata": {},
   "outputs": [
    {
     "data": {
      "text/plain": [
       "True"
      ]
     },
     "execution_count": 3,
     "metadata": {},
     "output_type": "execute_result"
    }
   ],
   "source": [
    "myTree = BinarySearchTree()\n",
    "myTree.insert(38)\n",
    "myTree.insert(19)\n",
    "myTree.insert(69)\n",
    "myTree.insert(12)\n",
    "myTree.insert(24)\n",
    "myTree.insert(59)\n",
    "myTree.insert(95)"
   ]
  },
  {
   "cell_type": "code",
   "execution_count": 4,
   "metadata": {},
   "outputs": [
    {
     "data": {
      "text/plain": [
       "[38, 19, 69, 12, 24, 59, 95]"
      ]
     },
     "execution_count": 4,
     "metadata": {},
     "output_type": "execute_result"
    }
   ],
   "source": [
    "myTree.BFS()"
   ]
  },
  {
   "cell_type": "code",
   "execution_count": 5,
   "metadata": {},
   "outputs": [
    {
     "data": {
      "text/plain": [
       "[38, 19, 12, 24, 69, 59, 95]"
      ]
     },
     "execution_count": 5,
     "metadata": {},
     "output_type": "execute_result"
    }
   ],
   "source": [
    "myTree.DFSPreOrder()"
   ]
  },
  {
   "cell_type": "code",
   "execution_count": 6,
   "metadata": {},
   "outputs": [
    {
     "data": {
      "text/plain": [
       "[12, 24, 19, 59, 95, 69, 38]"
      ]
     },
     "execution_count": 6,
     "metadata": {},
     "output_type": "execute_result"
    }
   ],
   "source": [
    "myTree.DFSPostOrder()"
   ]
  },
  {
   "cell_type": "code",
   "execution_count": 7,
   "metadata": {},
   "outputs": [
    {
     "data": {
      "text/plain": [
       "[12, 19, 24, 38, 59, 69, 95]"
      ]
     },
     "execution_count": 7,
     "metadata": {},
     "output_type": "execute_result"
    }
   ],
   "source": [
    "myTree.DFSInOrder()"
   ]
  },
  {
   "cell_type": "code",
   "execution_count": null,
   "metadata": {},
   "outputs": [],
   "source": []
  }
 ],
 "metadata": {
  "kernelspec": {
   "display_name": "Python 3",
   "language": "python",
   "name": "python3"
  },
  "language_info": {
   "codemirror_mode": {
    "name": "ipython",
    "version": 3
   },
   "file_extension": ".py",
   "mimetype": "text/x-python",
   "name": "python",
   "nbconvert_exporter": "python",
   "pygments_lexer": "ipython3",
   "version": "3.8.5"
  }
 },
 "nbformat": 4,
 "nbformat_minor": 2
}
